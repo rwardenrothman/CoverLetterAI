{
 "cells": [
  {
   "cell_type": "markdown",
   "id": "5d06bcdf1bdd29c6",
   "metadata": {},
   "source": [
    "# Lila Sciences Sandbox\n",
    "This notebook is a sandbox for testing and RAG prompts related to a Lila Sciences job posting."
   ]
  },
  {
   "cell_type": "markdown",
   "id": "71338f2738fdbbcd",
   "metadata": {},
   "source": [
    "## Initial Setup"
   ]
  },
  {
   "cell_type": "code",
   "execution_count": 1,
   "id": "cb0b9a83647df37f",
   "metadata": {
    "ExecuteTime": {
     "end_time": "2025-03-05T17:56:34.463289Z",
     "start_time": "2025-03-05T17:56:34.435888Z"
    }
   },
   "outputs": [],
   "source": [
    "# Load environment variables\n",
    "from dotenv import load_dotenv\n",
    "import os\n",
    "load_dotenv(r\"C:\\Users\\rward\\Documents\\Pycharm\\CoverLetterAI\\api_keys.env\")\n",
    "os.environ[\"LANGSMITH_PROJECT\"] = 'lila-sciences-sandbox'"
   ]
  },
  {
   "cell_type": "code",
   "execution_count": 8,
   "id": "efb399819e337c8e",
   "metadata": {
    "ExecuteTime": {
     "end_time": "2025-03-05T18:07:03.569945Z",
     "start_time": "2025-03-05T18:07:01.737457Z"
    }
   },
   "outputs": [],
   "source": [
    "from langchain.chat_models import init_chat_model\n",
    "from langchain_cohere import CohereEmbeddings\n",
    "from langchain_core.vectorstores import InMemoryVectorStore\n",
    "\n",
    "llm = init_chat_model(\"command-r-plus\", model_provider=\"cohere\")\n",
    "embeddings = CohereEmbeddings(model=\"embed-english-v3.0\")"
   ]
  },
  {
   "cell_type": "code",
   "execution_count": 9,
   "id": "4748ee5c927ac3d5",
   "metadata": {
    "ExecuteTime": {
     "end_time": "2025-03-05T18:07:20.068030Z",
     "start_time": "2025-03-05T18:07:20.045076Z"
    }
   },
   "outputs": [],
   "source": [
    "from langchain_text_splitters import RecursiveCharacterTextSplitter\n",
    "\n",
    "text_splitter = RecursiveCharacterTextSplitter(\n",
    "    chunk_size=1000,  # chunk size (characters)\n",
    "    chunk_overlap=200,  # chunk overlap (characters)\n",
    "    add_start_index=True,  # track index in original document\n",
    ")"
   ]
  },
  {
   "cell_type": "markdown",
   "id": "71aa173e0b958645",
   "metadata": {},
   "source": [
    "### Load Job Posting"
   ]
  },
  {
   "cell_type": "code",
   "execution_count": 10,
   "id": "c28e0f0fdfd61cbf",
   "metadata": {
    "ExecuteTime": {
     "end_time": "2025-03-05T18:08:11.991407Z",
     "start_time": "2025-03-05T18:08:11.060550Z"
    }
   },
   "outputs": [],
   "source": [
    "import bs4\n",
    "from langchain_community.document_loaders import WebBaseLoader\n",
    "\n",
    "# Only keep post title, headers, and content from the full HTML.\n",
    "bs4_strainer = bs4.SoupStrainer(class_=(\"job__title\", \"job__description body\"))\n",
    "loader = WebBaseLoader(\n",
    "    web_paths=(\"https://job-boards.greenhouse.io/lila/jobs/7769327002\",),\n",
    "    bs_kwargs={\"parse_only\": bs4_strainer},\n",
    ")\n",
    "posting_doc = loader.load()\n",
    "posting_vector_store = InMemoryVectorStore(embeddings)\n",
    "posting_ids = posting_vector_store.add_documents(documents=text_splitter.split_documents(posting_doc))"
   ]
  },
  {
   "cell_type": "markdown",
   "id": "81c31ff5dd485833",
   "metadata": {},
   "source": [
    "### Load Info about Lila Sciences"
   ]
  },
  {
   "cell_type": "code",
   "execution_count": 11,
   "id": "7c9bf5ba9b40d703",
   "metadata": {
    "ExecuteTime": {
     "end_time": "2025-03-05T18:08:18.532580Z",
     "start_time": "2025-03-05T18:08:15.179520Z"
    }
   },
   "outputs": [],
   "source": [
    "loader = WebBaseLoader(\n",
    "    web_paths=(\n",
    "        \"https://www.lila.ai/about\",\n",
    "        \"https://www.bostonglobe.com/2025/01/14/business/ai-moderna-cofounder-noubar-afeyan-flagship/?event=event12\",\n",
    "        \"https://endpts.com/pharma-is-losing-the-ai-talent-war-against-startups-analysis/\"\n",
    "    )\n",
    ")\n",
    "\n",
    "lila_docs = loader.load()\n",
    "lila_vector_store = InMemoryVectorStore(embeddings)\n",
    "lila_ids = lila_vector_store.add_documents(documents=text_splitter.split_documents(lila_docs))"
   ]
  },
  {
   "cell_type": "markdown",
   "id": "6642d53570baa6de",
   "metadata": {},
   "source": [
    "## Define/Test RAG Prompts"
   ]
  },
  {
   "cell_type": "markdown",
   "id": "c7a6bdb6bb2ecd34",
   "metadata": {},
   "source": [
    "### Get info about Lila Sciences"
   ]
  },
  {
   "cell_type": "code",
   "execution_count": 15,
   "id": "41d802ba3c0293d0",
   "metadata": {
    "ExecuteTime": {
     "end_time": "2025-03-05T21:24:02.869260Z",
     "start_time": "2025-03-05T21:24:02.856631Z"
    }
   },
   "outputs": [
    {
     "name": "stdout",
     "output_type": "stream",
     "text": [
      "Lila Sciences, a Flagship Pioneering company, is focused on building scientific superintelligence to address humanity's most pressing issues. They believe that the key to achieving this lies in reinventing the scientific method and creating a laboratory where AI can explore beyond existing knowledge. \n",
      "\n",
      "The company emphasizes the importance of scaling scientific experimentation, mirroring the progress seen in AI with larger models unlocking new abilities. By combining AI, human efforts, and an understanding of natural processes, Lila Sciences aims to accelerate scientific progress and enable transformative discoveries in health, sustainability, and other fields. \n",
      "\n",
      "What sets them apart is their ambition to create a new form of intelligence, Scientific Superintelligence, where AI designs and conducts thousands of parallel experiments, pushing the boundaries of human understanding and accelerating solutions to global challenges. This approach, referred to as \"polyintelligence\" by Noubar Afeyan, a founder of Flagship Pioneering and Moderna, highlights the potential for a whole new level of intelligence beyond traditional human intelligence. \n",
      "\n",
      "Lila Sciences is working towards a future where AI turns the wheel of science, illuminating new paths and bringing about exponential progress to address the world's most urgent problems.\n"
     ]
    }
   ],
   "source": [
    "from langchain_core.prompts import PromptTemplate\n",
    "\n",
    "prompt_1_text = \"\"\"\n",
    "You are a helpful assistant. I need to know more about {company}. Please summarize the following context, focusing on the main priorities of the company and what sets them apart from competitors.\n",
    "\n",
    "Context:\n",
    "{context_info}\n",
    "\"\"\"\n",
    "\n",
    "prompt_1 = PromptTemplate.from_template(prompt_1_text)\n",
    "prompt_1_messages = prompt_1.invoke({\"company\": \"Lila Sciences\", \"context_info\": '\\n\\n'.join(d.page_content for d in lila_docs)}).to_messages()\n",
    "prompt_1_response = llm.invoke(prompt_1_messages)\n",
    "print(prompt_1_response.content)"
   ]
  },
  {
   "cell_type": "markdown",
   "id": "986f993e04146249",
   "metadata": {},
   "source": [
    "Maybe it would be better to split that into two prompts? One for the main priorities and one for what sets them apart from competitors."
   ]
  },
  {
   "cell_type": "code",
   "execution_count": 28,
   "id": "ab4c68de4e7b88f",
   "metadata": {
    "ExecuteTime": {
     "end_time": "2025-03-06T02:25:16.390996Z",
     "start_time": "2025-03-06T02:25:16.380180Z"
    }
   },
   "outputs": [],
   "source": [
    "company_info_prompt = PromptTemplate.from_template(\"\"\"\n",
    "You are a helpful assistant. I need to know more about {company}. Please summarize the following context, focusing on {focus}. Respond with a list of keywords and short phrases.\n",
    "\n",
    "Context:\n",
    "{context_info}\n",
    "\"\"\")\n",
    "company_name = 'Lila Sciences'"
   ]
  },
  {
   "cell_type": "code",
   "execution_count": 25,
   "id": "b38dcef6db0e2ba2",
   "metadata": {
    "ExecuteTime": {
     "end_time": "2025-03-06T02:18:12.316813Z",
     "start_time": "2025-03-06T02:18:10.641859Z"
    }
   },
   "outputs": [
    {
     "name": "stdout",
     "output_type": "stream",
     "text": [
      "Scientific Superintelligence\n",
      "Reinventing Scientific Method\n",
      "AI-Powered Laboratory\n",
      "Parallel Experiments\n",
      "Scaling Scientific Experimentation\n",
      "Accelerating Breakthroughs in Medicine\n"
     ]
    }
   ],
   "source": [
    "from pydantic import BaseModel, Field\n",
    "from typing import List\n",
    "\n",
    "class Priorities(BaseModel):\n",
    "    \"\"\"The company's main priorities.\"\"\"\n",
    "    priorities: List[str] = Field(..., description=\"The main priorities of the company.\")\n",
    "\n",
    "priority_focus = f\"the main priorities of {company_name} and what problems they are trying to solve\"\n",
    "priority_docs = lila_vector_store.similarity_search(priority_focus)\n",
    "priority_messages = company_info_prompt.invoke({\"company\": \"Lila Sciences\", \"focus\": priority_focus, \"context_info\": priority_docs})\n",
    "structured_llm = llm.with_structured_output(Priorities)\n",
    "priority_response: Priorities = structured_llm.invoke(priority_messages)\n",
    "print('\\n'.join(priority_response.priorities))\n"
   ]
  },
  {
   "cell_type": "code",
   "execution_count": 33,
   "id": "69b0df968085ee7",
   "metadata": {
    "ExecuteTime": {
     "end_time": "2025-03-06T02:30:43.945198Z",
     "start_time": "2025-03-06T02:29:35.187025Z"
    }
   },
   "outputs": [
    {
     "name": "stdout",
     "output_type": "stream",
     "text": [
      "\n"
     ]
    }
   ],
   "source": [
    "from cohere import UnprocessableEntityError\n",
    "\n",
    "class Differentiators(BaseModel):\n",
    "    \"\"\"The company's differentiators.\"\"\"\n",
    "    differentiators: List[str] = Field(..., description=\"What sets the company apart from competitors.\")\n",
    "\n",
    "differentiators_focus = f\"what sets {company_name} apart from competitors or what makes it special\"\n",
    "differentiators_docs = lila_vector_store.similarity_search(differentiators_focus)\n",
    "differentiators_messages = company_info_prompt.invoke({\"company\": \"Lila Sciences\", \"focus\": differentiators_focus, \"context_info\": differentiators_docs})\n",
    "structured_llm = llm.with_structured_output(Differentiators)\n",
    "try:\n",
    "    differentiators_response: Differentiators = structured_llm.invoke(differentiators_messages)\n",
    "except UnprocessableEntityError as e:\n",
    "    differentiators_response = Differentiators(differentiators=[\"None Found\"])\n",
    "print('\\n'.join(differentiators_response.differentiators))\n"
   ]
  },
  {
   "cell_type": "markdown",
   "id": "4a391e086a5c9733",
   "metadata": {},
   "source": [
    "### Get info about the job posting"
   ]
  },
  {
   "cell_type": "code",
   "execution_count": 45,
   "id": "a7424a68c64fa1b4",
   "metadata": {
    "ExecuteTime": {
     "end_time": "2025-03-06T02:52:39.167532Z",
     "start_time": "2025-03-06T02:52:36.150014Z"
    }
   },
   "outputs": [
    {
     "name": "stdout",
     "output_type": "stream",
     "text": [
      "Experience in materials science, chemistry, or chemical engineering, with a focus on experimental work and PhD-level expertise\n",
      "Proficiency in project management, especially in handling complex, multidisciplinary projects\n",
      "Familiarity with automation, lab robotics, and automated/self-driving labs\n",
      "Ability to work with machine learning models and interpret data\n",
      "Strong collaboration and communication skills, with an emphasis on empathy and adaptability\n",
      "Comfort with ambiguity and a track record of breaking down complex goals into achievable tasks\n",
      "Passion for innovation and a dedication to driving impact and accelerating breakthroughs\n",
      "Transferable skills and a diverse mindset, aligning with the company's inclusive and creative culture\n"
     ]
    }
   ],
   "source": [
    "posting_info_prompt = PromptTemplate.from_template(\"\"\"\n",
    "You are a professional recruiter who is helping me prepare a job application. Given the following job posting, please give me a list of specific experiences I should focus on while preparing a cover letter and resume for this job. You should take into account the company's main priorities and what differentiates them from competitors. Your response should be a json list of items (experiences and skills) that are most relevant to the job.\n",
    "\n",
    "Main Priorities:\n",
    "{priorities}\n",
    "\n",
    "Differentiators:\n",
    "{differentiators}\n",
    "\n",
    "Job Posting:\n",
    "{posting_text}\n",
    "\"\"\")\n",
    "\n",
    "class CoverLetterFocuses(BaseModel):\n",
    "    \"\"\"The main experiences to focus on.\"\"\"\n",
    "    items: List[str] = Field(..., description=\"The list of experiences and skills.\")\n",
    "\n",
    "focus_messages = posting_info_prompt.invoke({'priorities': '\\n'.join(priority_response.priorities), 'differentiators': '\\n'.join(differentiators_response.differentiators), 'posting_text': posting_doc[0].page_content})\n",
    "structured_llm = llm.with_structured_output(CoverLetterFocuses)\n",
    "focus_response = structured_llm.invoke(focus_messages)\n",
    "print('\\n'.join(focus_response.items))"
   ]
  },
  {
   "cell_type": "markdown",
   "id": "d682a5e1f18c4e59",
   "metadata": {},
   "source": [
    "## See how the focuses align with my CV"
   ]
  },
  {
   "cell_type": "markdown",
   "id": "4303d7c741c54a0b",
   "metadata": {},
   "source": [
    "### Load my CV"
   ]
  },
  {
   "cell_type": "code",
   "execution_count": 50,
   "id": "8eba9987e2aadd74",
   "metadata": {
    "ExecuteTime": {
     "end_time": "2025-03-06T03:13:56.769127Z",
     "start_time": "2025-03-06T03:13:55.400127Z"
    }
   },
   "outputs": [],
   "source": [
    "loader = WebBaseLoader(\n",
    "    web_paths=(\"https://tana.pub/C9FUOKB-_m-F/rob-warden-rothman\",)\n",
    ")\n",
    "cv_docs = loader.load()\n",
    "cv_vector_store = InMemoryVectorStore(embeddings)\n",
    "cv_ids = cv_vector_store.add_documents(documents=text_splitter.split_documents(cv_docs))"
   ]
  },
  {
   "cell_type": "code",
   "execution_count": 60,
   "id": "d7b83f714584d0d6",
   "metadata": {
    "ExecuteTime": {
     "end_time": "2025-03-06T03:45:12.959113Z",
     "start_time": "2025-03-06T03:45:11.368962Z"
    }
   },
   "outputs": [],
   "source": [
    "from langchain_docling import DoclingLoader\n",
    "from langchain_docling.loader import ExportType\n",
    "from langchain_text_splitters import MarkdownHeaderTextSplitter\n",
    "\n",
    "headers = [(\"#\" * (i+1), f'Header {i+1}') for i in range(3)]\n",
    "markdown_splitter = MarkdownHeaderTextSplitter(headers)\n",
    "\n",
    "loader = DoclingLoader(file_path=\"https://tana.pub/C9FUOKB-_m-F/rob-warden-rothman\", export_type=ExportType.MARKDOWN)\n",
    "cv_docs = loader.load()\n",
    "cv_vector_store = InMemoryVectorStore(embeddings)\n",
    "cv_ids = cv_vector_store.add_documents(documents=markdown_splitter.split_text(cv_docs[0].page_content))"
   ]
  },
  {
   "cell_type": "markdown",
   "id": "f772fd3914e4f2d0",
   "metadata": {},
   "source": [
    "### Test prompt with the first focus"
   ]
  },
  {
   "cell_type": "code",
   "execution_count": 67,
   "id": "9e6843172a77bf28",
   "metadata": {
    "ExecuteTime": {
     "end_time": "2025-03-06T04:04:16.789161Z",
     "start_time": "2025-03-06T04:03:52.215527Z"
    }
   },
   "outputs": [
    {
     "name": "stdout",
     "output_type": "stream",
     "text": [
      "# Experience in materials science, chemistry, or chemical engineering, with a focus on experimental work and PhD-level expertise\n",
      "Your work experience demonstrates a strong background in materials science, chemistry, and chemical engineering, with a clear focus on experimental work. Your postdoctoral research at MIT involved creating libraries of enzymes and developing a retrosynthesis algorithm for the fermentation of novel compounds, which required a deep understanding of chemistry and chemical engineering principles. Additionally, your role at GRO Biosciences, where you managed a biofoundry and developed automation protocols, further showcases your expertise in laboratory automation, assay development, and fermentation—all of which are highly applicable to the field of chemical engineering. Your dissertation research at the University of Pennsylvania also contributes to your qualifications, as it involved designing and implementing a novel bioconjugation technique, STEPL, which required a sophisticated understanding of chemistry and chemical engineering. Overall, your CV highlights a wealth of relevant experience and PhD-level expertise in the fields of materials science, chemistry, and chemical engineering.\n",
      "\n",
      "\n",
      "# Proficiency in project management, especially in handling complex, multidisciplinary projects\n",
      "Your experience at GRO Biosciences and the Massachusetts Institute of Technology (MIT) demonstrates proficiency in project management, especially in handling complex, multidisciplinary projects. At GRO Biosciences, you led a team of experts from various fields, including automation engineering, science, and laboratory operations, to successfully execute multiple projects. You also synthesized conversations with the R&D team to define a project portfolio, showcasing your ability to manage and prioritize complex projects. Additionally, your work at MIT involved leading a cross-functional project to develop a retrosynthesis algorithm and designing a flexible automation pipeline, further highlighting your expertise in managing multidisciplinary initiatives. These experiences, combined with your strong leadership and collaboration skills, strongly indicate your proficiency in project management, particularly in handling complex and diverse projects.\n",
      "\n",
      "\n",
      "# Familiarity with automation, lab robotics, and automated/self-driving labs\n",
      "Your experience at GRO Biosciences and the Massachusetts Institute of Technology (MIT) demonstrates a strong familiarity with automation, lab robotics, and self-driving labs. You have built and managed biofoundry teams, developing automation platforms and custom software to free scientists from routine experiments and organizing data. You also led the development of a modular laboratory automation suite, connecting robotics platforms and sequence design software, and implemented a request system with standard and custom workflows. Additionally, you have experience with laboratory information management systems (LIMS), having overhauled GRO's LIMS system and integrated it with custom Slack apps. Your work at MIT further showcases your skills in laboratory automation and assay development, as you designed a flexible automation pipeline and developed high-throughput assays and analysis software. Overall, your experience in building, managing, and utilizing automation and robotics in a laboratory setting makes you a strong candidate for positions requiring familiarity with automation and self-driving labs.\n",
      "\n",
      "\n",
      "# Ability to work with machine learning models and interpret data\n",
      "Your experience in developing and implementing machine learning models, as well as interpreting data, is evident in your work at GRO Biosciences. You played a key role in building and managing the biofoundry team, which focused on using automation platforms and custom software to streamline experiments and organize data. This included developing an NGS assay and analysis pipeline, as well as writing Python programs to accelerate standard curve generation and protein quantification. Additionally, your work on the LIMS system and request system demonstrates your ability to interpret and manage large sets of data. Your experience in fermentation and assay development, as well as your leadership and management skills, further showcase your ability to work with and interpret data from various sources. Overall, your background in biotechnology and automation, combined with your programming skills, strongly supports your ability to work with machine learning models and interpret data effectively.\n",
      "\n",
      "\n",
      "# Strong collaboration and communication skills, with an emphasis on empathy and adaptability\n",
      "Your experience at GRO Biosciences and the Massachusetts Institute of Technology (MIT) strongly demonstrates your collaboration and communication skills, with a particular emphasis on cross-functional collaborations. You have a proven track record of working effectively with bachelor's- and PhD-level professionals from various fields, including biology, chemistry, and computational biology. Additionally, your ability to lead and manage diverse teams at GRO Biosciences, comprising automation engineers, scientists, and laboratory professionals, showcases your strong leadership and adaptability skills. Your mentorship of a research associate, which resulted in their promotion, further highlights your communication and empathy capabilities.\n",
      "\n",
      "\n",
      "# Comfort with ambiguity and a track record of breaking down complex goals into achievable tasks\n",
      "Your experience at GRO Biosciences, where you built and managed a biofoundry team, clearly demonstrates your comfort with ambiguity and complex goal-setting. You led a diverse team of engineers, scientists, and technicians, requiring strong leadership and cross-functional collaboration skills. By synthesizing conversations with the R&D team, you defined a project portfolio that maximized the impact of the biofoundry, showcasing your ability to break down complex goals into achievable tasks. Additionally, you successfully navigated uncertain periods for the company, retaining 100% of your team members, which further highlights your ability to thrive in ambiguous situations. The automation of experiments and the significant man-hour savings achieved by your team at GRO Biosciences also reflect your expertise in project management and complex problem-solving.\n",
      "\n",
      "\n",
      "# Passion for innovation and a dedication to driving impact and accelerating breakthroughs\n",
      "Your experience as Principal Scientist and Team Lead at GRO Biosciences, as well as your postdoctoral work at MIT, demonstrate a passion for innovation and driving impact. You led the development and implementation of novel techniques, such as STEPL and the flexible automation pipeline, which had a significant impact on improving efficiency and productivity in the laboratory. Your ability to innovate is further highlighted by your work in developing quality control protocols, NGS assays, and analysis pipelines, as well as your use of programming to accelerate standard curve generation and protein quantification. Additionally, your leadership and management experience, particularly in keeping your team focused and motivated during uncertain periods, resulted in high employee retention and successful project execution, showcasing your dedication to driving impact and accelerating breakthroughs.\n",
      "\n",
      "\n",
      "# Transferable skills and a diverse mindset, aligning with the company's inclusive and creative culture\n",
      "Your experience at GRO Biosciences and the Massachusetts Institute of Technology (MIT) showcases a diverse skill set and a capacity for cross-functional collaboration. You have a proven track record of successfully managing and leading diverse teams, which is essential for fostering an inclusive culture. Additionally, your ability to synthesize conversations and collaborate with members from various educational backgrounds, such as biologists, chemists, and computational biologists, demonstrates your adaptability and openness to diverse perspectives. Your experience in multiple fields, including chemistry, biology, and computer science, further highlights your versatility and capacity for creative thinking. This well-rounded skill set, combined with your leadership and mentorship experience, makes you a strong candidate for a company that values a diverse and creative culture.\n",
      "\n",
      "\n"
     ]
    }
   ],
   "source": [
    "from typing_extensions import Optional\n",
    "\n",
    "\n",
    "cv_focus_prompt = PromptTemplate.from_template(\"\"\"\n",
    "You are a professional recruiter who is helping me prepare a job application. We have already identified a set of important skills on which to focus my resume and CV. For each item, we need to determine if I actually have experience that can speak to that focus (it's okay if I don't). The following context documents have been retrieved from my CV as possible matches to the current focus point. If my experience is relevant, please summarize how. Reply in one paragraph.\n",
    "\n",
    "Current Focus:\n",
    "{current_focus}\n",
    "\n",
    "Context Documents:\n",
    "{context}\n",
    "\"\"\")\n",
    "\n",
    "focus_responses = []\n",
    "for cur_focus in focus_response.items:\n",
    "    cv_docs = cv_vector_store.similarity_search(cur_focus)\n",
    "    cv_focus_messages = cv_focus_prompt.invoke({'current_focus': cur_focus, 'context': '\\n\\n'.join(d.page_content for d in cv_docs)})\n",
    "    cv_focus_response = llm.invoke(cv_focus_messages)\n",
    "    focus_responses.append(dict(focus=cur_focus, response=cv_focus_response.content))\n",
    "    print(f\"# {cur_focus}\\n{cv_focus_response.content}\\n\\n\")"
   ]
  }
 ],
 "metadata": {
  "kernelspec": {
   "display_name": "Python 3",
   "language": "python",
   "name": "python3"
  },
  "language_info": {
   "codemirror_mode": {
    "name": "ipython",
    "version": 2
   },
   "file_extension": ".py",
   "mimetype": "text/x-python",
   "name": "python",
   "nbconvert_exporter": "python",
   "pygments_lexer": "ipython2",
   "version": "2.7.6"
  }
 },
 "nbformat": 4,
 "nbformat_minor": 5
}
